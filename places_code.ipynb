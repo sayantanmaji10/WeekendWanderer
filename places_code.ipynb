{
 "cells": [
  {
   "cell_type": "code",
   "execution_count": 1,
   "id": "c0d97415-982e-4c9e-ad39-228b9d5f2782",
   "metadata": {},
   "outputs": [
    {
     "name": "stdout",
     "output_type": "stream",
     "text": [
      "Requirement already satisfied: pandas in c:\\users\\hp\\appdata\\local\\programs\\python\\python311\\lib\\site-packages (2.2.0)Note: you may need to restart the kernel to use updated packages.\n",
      "\n",
      "Requirement already satisfied: numpy<2,>=1.23.2 in c:\\users\\hp\\appdata\\local\\programs\\python\\python311\\lib\\site-packages (from pandas) (1.23.5)\n",
      "Requirement already satisfied: python-dateutil>=2.8.2 in c:\\users\\hp\\appdata\\local\\programs\\python\\python311\\lib\\site-packages (from pandas) (2.8.2)\n",
      "Requirement already satisfied: pytz>=2020.1 in c:\\users\\hp\\appdata\\local\\programs\\python\\python311\\lib\\site-packages (from pandas) (2024.1)\n",
      "Requirement already satisfied: tzdata>=2022.7 in c:\\users\\hp\\appdata\\local\\programs\\python\\python311\\lib\\site-packages (from pandas) (2024.1)\n",
      "Requirement already satisfied: six>=1.5 in c:\\users\\hp\\appdata\\local\\programs\\python\\python311\\lib\\site-packages (from python-dateutil>=2.8.2->pandas) (1.16.0)\n"
     ]
    }
   ],
   "source": [
    "pip install pandas"
   ]
  },
  {
   "cell_type": "code",
   "execution_count": 2,
   "id": "3f287aa8-8e2a-4931-823e-4f46a86907a1",
   "metadata": {},
   "outputs": [
    {
     "name": "stdout",
     "output_type": "stream",
     "text": [
      "Requirement already satisfied: pyarrow in c:\\users\\hp\\appdata\\local\\programs\\python\\python311\\lib\\site-packages (15.0.0)\n",
      "Requirement already satisfied: numpy<2,>=1.16.6 in c:\\users\\hp\\appdata\\local\\programs\\python\\python311\\lib\\site-packages (from pyarrow) (1.23.5)\n",
      "Note: you may need to restart the kernel to use updated packages.\n"
     ]
    }
   ],
   "source": [
    "pip install pyarrow"
   ]
  },
  {
   "cell_type": "code",
   "execution_count": 3,
   "id": "e6f9a7a0-761c-479d-8de3-899b3ed59e5a",
   "metadata": {},
   "outputs": [],
   "source": [
    "import pandas as pd"
   ]
  },
  {
   "cell_type": "code",
   "execution_count": 4,
   "id": "a9e05a4b-35ef-40c4-afb0-5ae5f03c9d3e",
   "metadata": {},
   "outputs": [
    {
     "name": "stdout",
     "output_type": "stream",
     "text": [
      "Requirement already satisfied: fsspec in c:\\users\\hp\\appdata\\local\\programs\\python\\python311\\lib\\site-packages (2024.2.0)Note: you may need to restart the kernel to use updated packages.\n",
      "\n"
     ]
    }
   ],
   "source": [
    "pip install fsspec\n"
   ]
  },
  {
   "cell_type": "code",
   "execution_count": 6,
   "id": "0ea5b6f1-6e9c-4800-8a9c-a48f1a50d8ff",
   "metadata": {},
   "outputs": [],
   "source": [
    "travel_data = pd.read_csv(\"E://AKA advisors//places.csv\")"
   ]
  },
  {
   "cell_type": "code",
   "execution_count": 54,
   "id": "90e39bd7-138e-4a53-9620-b70e1f33bc68",
   "metadata": {},
   "outputs": [],
   "source": [
    "def rank_weekend_places(city_name):\n",
    "    # Filter data based on the given city\n",
    "    city_data = travel_data[travel_data['City'] == city_name]\n",
    "    \n",
    "    # Sort places based on Google review rating\n",
    "    sorted_places = city_data.sort_values(by='Google review rating', ascending=False).reset_index(drop=True)\n",
    "    \n",
    "    # Add serial numbers starting from 1 and rename the column to 'Rank'\n",
    "    sorted_places.insert(0, 'Rank', range(1, 1 + len(sorted_places)))\n",
    "    \n",
    "    return sorted_places[['Rank', 'Name', 'Google review rating']]"
   ]
  },
  {
   "cell_type": "code",
   "execution_count": 55,
   "id": "d3a8506b-6ff8-46fb-bc52-70c14c41cf13",
   "metadata": {},
   "outputs": [
    {
     "name": "stdin",
     "output_type": "stream",
     "text": [
      "Enter the city name:  Mumbai\n"
     ]
    },
    {
     "name": "stdout",
     "output_type": "stream",
     "text": [
      "\n",
      "Ranked Weekend Places to Travel in Mumbai:\n",
      "\n",
      " Rank                                           Name  Google review rating\n",
      "    1                           Siddhivinayak Temple                   4.8\n",
      "    2                               Mahalaxmi Temple                   4.7\n",
      "    3                               Gateway of India                   4.6\n",
      "    4 Chhatrapati Shivaji Maharaj Vastu Sangrahalaya                   4.6\n",
      "    5                                   Marine Drive                   4.5\n",
      "    6                                Haji Ali Dargah                   4.4\n",
      "    7                    Sanjay Gandhi National Park                   4.3\n",
      "    8                                Chowpatty Beach                   4.3\n",
      "    9                                    Essel World                   4.3\n",
      "   10                                Elephanta Caves                   4.3\n"
     ]
    }
   ],
   "source": [
    "if __name__ == \"__main__\":\n",
    "    # Input city name\n",
    "    city = input(\"Enter the city name: \")\n",
    "    \n",
    "    # Rank weekend places for the given city\n",
    "    ranked_places = rank_weekend_places(city)\n",
    "    \n",
    "    print(f\"\\nRanked Weekend Places to Travel in {city}:\\n\")\n",
    "    print(ranked_places.to_string(index=False))"
   ]
  },
  {
   "cell_type": "code",
   "execution_count": null,
   "id": "e3f25370-1588-4cfa-9d20-f5f7e0625399",
   "metadata": {},
   "outputs": [],
   "source": []
  }
 ],
 "metadata": {
  "kernelspec": {
   "display_name": "Python 3 (ipykernel)",
   "language": "python",
   "name": "python3"
  },
  "language_info": {
   "codemirror_mode": {
    "name": "ipython",
    "version": 3
   },
   "file_extension": ".py",
   "mimetype": "text/x-python",
   "name": "python",
   "nbconvert_exporter": "python",
   "pygments_lexer": "ipython3",
   "version": "3.11.3"
  }
 },
 "nbformat": 4,
 "nbformat_minor": 5
}
